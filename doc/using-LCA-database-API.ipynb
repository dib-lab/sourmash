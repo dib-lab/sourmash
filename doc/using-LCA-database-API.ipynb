{
 "cells": [
  {
   "cell_type": "markdown",
   "metadata": {},
   "source": [
    "# Using the `LCA_Database` API"
   ]
  },
  {
   "cell_type": "markdown",
   "metadata": {},
   "source": [
    "Create an `LCA_Database` like so:"
   ]
  },
  {
   "cell_type": "code",
   "execution_count": 4,
   "metadata": {},
   "outputs": [],
   "source": [
    "import sourmash\n",
    "db = sourmash.lca.LCA_Database(ksize=31, scaled=1000)"
   ]
  },
  {
   "cell_type": "markdown",
   "metadata": {},
   "source": [
    "Create signatures for some genomes, load them, and add them:"
   ]
  },
  {
   "cell_type": "code",
   "execution_count": 5,
   "metadata": {},
   "outputs": [
    {
     "name": "stdout",
     "output_type": "stream",
     "text": [
      "\r",
      "\u001b[K\r\n",
      "== This is sourmash version 3.2.4.dev5+g6484e78f. ==\r\n",
      "\r",
      "\u001b[K== Please cite Brown and Irber (2016), doi:10.21105/joss.00027. ==\r\n",
      "\r\n",
      "\r",
      "\u001b[Ksetting num_hashes to 0 because --scaled is set\r\n",
      "\r",
      "\u001b[Kcomputing signatures for files: genomes/akkermansia.fa, genomes/shew_os185.fa, genomes/shew_os223.fa\r\n",
      "\r",
      "\u001b[KComputing signature for ksizes: [31]\r\n",
      "\r",
      "\u001b[KComputing only nucleotide (and not protein) signatures.\r\n",
      "\r",
      "\u001b[KComputing a total of 1 signature(s).\r\n",
      "\r",
      "\u001b[Kskipping genomes/akkermansia.fa - already done\r\n",
      "\r",
      "\u001b[Kskipping genomes/shew_os185.fa - already done\r\n",
      "\r",
      "\u001b[Kskipping genomes/shew_os223.fa - already done\r\n"
     ]
    }
   ],
   "source": [
    "!sourmash compute --name-from-first -k 31 --scaled=1000 genomes/*"
   ]
  },
  {
   "cell_type": "code",
   "execution_count": 7,
   "metadata": {},
   "outputs": [],
   "source": [
    "sig1 = sourmash.load_one_signature('akkermansia.fa.sig', ksize=31)\n",
    "sig2 = sourmash.load_one_signature('shew_os185.fa.sig', ksize=31)\n",
    "sig3 = sourmash.load_one_signature('shew_os223.fa.sig', ksize=31)"
   ]
  },
  {
   "cell_type": "code",
   "execution_count": 8,
   "metadata": {},
   "outputs": [],
   "source": [
    "db.insert(sig1, ident='akkermansia')\n",
    "db.insert(sig2, ident='shew_os185')\n",
    "db.insert(sig3, ident='shew_os223')"
   ]
  },
  {
   "cell_type": "markdown",
   "metadata": {},
   "source": [
    "## Run `search` and `gather` via the `Index` API"
   ]
  },
  {
   "cell_type": "code",
   "execution_count": 14,
   "metadata": {},
   "outputs": [
    {
     "name": "stdout",
     "output_type": "stream",
     "text": [
      "[(1.0,\n",
      "  SourmashSignature('CP001071.1 Akkermansia muciniphila ATCC BAA-835, complete genome', 6822e0b7),\n",
      "  None)]\n"
     ]
    }
   ],
   "source": [
    "from pprint import pprint\n",
    "pprint(db.search(sig1, threshold=0.1))"
   ]
  },
  {
   "cell_type": "code",
   "execution_count": 15,
   "metadata": {},
   "outputs": [
    {
     "name": "stdout",
     "output_type": "stream",
     "text": [
      "[(1.0,\n",
      "  SourmashSignature('NC_009665.1 Shewanella baltica OS185, complete genome', b47b13ef),\n",
      "  None),\n",
      " (0.22846441947565543,\n",
      "  SourmashSignature('NC_011663.1 Shewanella baltica OS223, complete genome', ae6659f6),\n",
      "  None)]\n"
     ]
    }
   ],
   "source": [
    "pprint(db.search(sig2, threshold=0.1))"
   ]
  },
  {
   "cell_type": "code",
   "execution_count": 16,
   "metadata": {},
   "outputs": [
    {
     "name": "stdout",
     "output_type": "stream",
     "text": [
      "[(1.0,\n",
      "  SourmashSignature('NC_011663.1 Shewanella baltica OS223, complete genome', ae6659f6),\n",
      "  None)]\n"
     ]
    }
   ],
   "source": [
    "pprint(db.gather(sig3))"
   ]
  },
  {
   "cell_type": "markdown",
   "metadata": {},
   "source": [
    "## Retrieve all signatures with `signatures()`"
   ]
  },
  {
   "cell_type": "code",
   "execution_count": 19,
   "metadata": {},
   "outputs": [
    {
     "name": "stdout",
     "output_type": "stream",
     "text": [
      "SourmashSignature('CP001071.1 Akkermansia muciniphila ATCC BAA-835, complete genome', 6822e0b7)\n",
      "SourmashSignature('NC_009665.1 Shewanella baltica OS185, complete genome', b47b13ef)\n",
      "SourmashSignature('NC_011663.1 Shewanella baltica OS223, complete genome', ae6659f6)\n"
     ]
    }
   ],
   "source": [
    "for i in db.signatures():\n",
    "    print(i)"
   ]
  },
  {
   "cell_type": "markdown",
   "metadata": {},
   "source": [
    "## Access identifiers and names"
   ]
  },
  {
   "cell_type": "markdown",
   "metadata": {},
   "source": [
    "The list of (unique) identifiers in the database can be accessed via the attribute `ident_to_idx`, which maps to integer identifiers; identifiers can also retrieve full names, which are taken from `sig.name()` upon insertion."
   ]
  },
  {
   "cell_type": "code",
   "execution_count": 20,
   "metadata": {},
   "outputs": [
    {
     "name": "stdout",
     "output_type": "stream",
     "text": [
      "dict_keys(['akkermansia', 'shew_os185', 'shew_os223'])\n"
     ]
    }
   ],
   "source": [
    "pprint(db.ident_to_idx.keys())"
   ]
  },
  {
   "cell_type": "code",
   "execution_count": 23,
   "metadata": {},
   "outputs": [
    {
     "name": "stdout",
     "output_type": "stream",
     "text": [
      "{'akkermansia': 'CP001071.1 Akkermansia muciniphila ATCC BAA-835, complete '\n",
      "                'genome',\n",
      " 'shew_os185': 'NC_009665.1 Shewanella baltica OS185, complete genome',\n",
      " 'shew_os223': 'NC_011663.1 Shewanella baltica OS223, complete genome'}\n"
     ]
    }
   ],
   "source": [
    "pprint(db.ident_to_name)"
   ]
  },
  {
   "cell_type": "markdown",
   "metadata": {},
   "source": [
    "## Access hash values directly"
   ]
  },
  {
   "cell_type": "markdown",
   "metadata": {},
   "source": [
    "The attribute `hashval_to_idx` contains a mapping from individual hash values to sets of `idx` indices.\n",
    "\n",
    "See the method `_find_signatures()` for an example of how this is used in `search` and `gather`."
   ]
  },
  {
   "cell_type": "code",
   "execution_count": 25,
   "metadata": {},
   "outputs": [
    {
     "name": "stdout",
     "output_type": "stream",
     "text": [
      "1300 hash values total in this database\n"
     ]
    }
   ],
   "source": [
    "print('{} hash values total in this database'.format(len(db.hashval_to_idx)))"
   ]
  },
  {
   "cell_type": "code",
   "execution_count": 27,
   "metadata": {},
   "outputs": [
    {
     "name": "stdout",
     "output_type": "stream",
     "text": [
      "belonging to signatures {0, 1, 2}\n"
     ]
    }
   ],
   "source": [
    "all_idx = set()\n",
    "for idx_set in db.hashval_to_idx.values():\n",
    "    all_idx.update(idx_set)\n",
    "print('belonging to signatures with idx {}'.format(all_idx))"
   ]
  },
  {
   "cell_type": "code",
   "execution_count": 35,
   "metadata": {},
   "outputs": [],
   "source": [
    "first_three_hashvals = list(db.hashval_to_idx)[:3]"
   ]
  },
  {
   "cell_type": "code",
   "execution_count": 36,
   "metadata": {},
   "outputs": [
    {
     "name": "stdout",
     "output_type": "stream",
     "text": [
      "hashval 17302105753387 belongs to idxs {0}\n",
      "hashval 95741036335406 belongs to idxs {0}\n",
      "hashval 165640715598232 belongs to idxs {0}\n"
     ]
    }
   ],
   "source": [
    "for hashval in first_three_hashvals:\n",
    "    print('hashval {} belongs to idxs {}'.format(hashval, db.hashval_to_idx[hashval]))"
   ]
  },
  {
   "cell_type": "code",
   "execution_count": 44,
   "metadata": {},
   "outputs": [
    {
     "name": "stdout",
     "output_type": "stream",
     "text": [
      "490 hashvals belong to query idx 2\n",
      "query idx 2 matches to ident shew_os223\n",
      "query idx 2 matches to name NC_011663.1 Shewanella baltica OS223, complete genome\n"
     ]
    }
   ],
   "source": [
    "query_idx = 2\n",
    "hashval_set = set()\n",
    "for hashval, idx_set in db.hashval_to_idx.items():\n",
    "    if query_idx in idx_set:\n",
    "        hashval_set.add(hashval)\n",
    "        \n",
    "print('{} hashvals belong to query idx {}'.format(len(hashval_set), query_idx))\n",
    "\n",
    "ident = db.idx_to_ident[query_idx]\n",
    "print('query idx {} matches to ident {}'.format(query_idx, ident))\n",
    "\n",
    "name = db.ident_to_name[ident]\n",
    "print('query idx {} matches to name {}'.format(query_idx, name))"
   ]
  },
  {
   "cell_type": "markdown",
   "metadata": {},
   "source": [
    "## TODO: add lineage manipulation examples"
   ]
  },
  {
   "cell_type": "code",
   "execution_count": null,
   "metadata": {},
   "outputs": [],
   "source": []
  }
 ],
 "metadata": {
  "kernelspec": {
   "display_name": "Python (myenv)",
   "language": "python",
   "name": "myenv"
  },
  "language_info": {
   "codemirror_mode": {
    "name": "ipython",
    "version": 3
   },
   "file_extension": ".py",
   "mimetype": "text/x-python",
   "name": "python",
   "nbconvert_exporter": "python",
   "pygments_lexer": "ipython3",
   "version": "3.7.6"
  }
 },
 "nbformat": 4,
 "nbformat_minor": 4
}
